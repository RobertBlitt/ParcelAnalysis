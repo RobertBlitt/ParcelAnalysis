{
 "cells": [
  {
   "cell_type": "markdown",
   "metadata": {},
   "source": [
    "# TMK Foundation Setup - Appetizer 🥗\n",
    "\n",
    "**Purpose**: Create the TMK foundation layer that all other data will join to\n",
    "**Input**: Distance to Municipal Wells (contains TMK data)\n",
    "**Output**: TMK_Foundation_Master in Outputs/TMK_Foundation/\n",
    "\n",
    "## Recipe Overview\n",
    "This is our foundation layer - like preparing the base for a complex dish. Everything else builds on this.\n",
    "\n",
    "### Ingredients:\n",
    "- Municipal Wells shapefile (contains TMK and distance data)\n",
    "- Master table field structure\n",
    "\n",
    "### Cooking Steps:\n",
    "1. Analyze TMK data structure\n",
    "2. Create foundation layer\n",
    "3. Add fields for subsequent joins\n",
    "4. Initialize tracking system"
   ]
  },
  {
   "cell_type": "code",
   "execution_count": null,
   "metadata": {},
   "source": [
    "# Load master configuration if not already loaded\n",
    "if 'outputs_folder' not in globals():\n",
    "    exec(open(r\"../00_Master_Menu/00_Master_Hawaii_Matrix_Analysis.ipynb\").read())\n",
    "\n",
    "import sys\n",
    "sys.path.append(os.path.join(scripts_folder, '99_Kitchen_Utils'))\n",
    "from Common_Functions import *\n",
    "\n",
    "print(\"🥗 Starting TMK Foundation Setup...\")\n",
    "log_workflow_step(\"TMK Foundation\", \"Beginning setup\")"
   ]
  },
  {
   "cell_type": "code",
   "execution_count": null,
   "metadata": {},
   "source": [
    "# Create TMK Foundation folder structure\n",
    "tmk_folder = os.path.join(outputs_folder, \"TMK_Foundation\")\n",
    "if not os.path.exists(tmk_folder):\n",
    "    os.makedirs(tmk_folder)\n",
    "    print(f\"Created: {tmk_folder}\")\n",
    "\n",
    "# Validate source layer exists\n",
    "validate_layer_exists(municipal_wells_layer)\n",
    "\n",
    "# Analyze TMK structure\n",
    "wells_fields = [(f.name, f.type) for f in arcpy.ListFields(municipal_wells_layer)]\n",
    "wells_count = int(arcpy.management.GetCount(municipal_wells_layer)[0])\n",
    "\n",
    "print(f\"Municipal Wells Analysis:\")\n",
    "print(f\"  Records: {wells_count:,}\")\n",
    "print(f\"  TMK fields: {[f[0] for f in wells_fields if 'TMK' in f[0].upper()]}\")"
   ]
  },
  {
   "cell_type": "code",
   "execution_count": null,
   "metadata": {},
   "source": [
    "# Create TMK Foundation layer\n",
    "tmk_foundation_name = \"TMK_Foundation_Master\"\n",
    "tmk_foundation_path = os.path.join(tmk_folder, tmk_foundation_name + \".shp\")\n",
    "\n",
    "# Copy Municipal Wells as foundation\n",
    "arcpy.management.CopyFeatures(municipal_wells_layer, tmk_foundation_path)\n",
    "print(f\"✅ Created foundation: {tmk_foundation_path}\")\n",
    "\n",
    "# Add master table tracking fields\n",
    "foundation_fields = [\n",
    "    (\"SOIL_JOINED\", \"TEXT\", 10, \"Soil data joined flag\"),\n",
    "    (\"SLOPE_CLASS\", \"TEXT\", 15, \"HAR 11-62 Slope Class\"),\n",
    "    (\"PERC_CLASS\", \"TEXT\", 20, \"HAR 11-62 Percolation Class\"),\n",
    "    (\"DRAINAGE_CLASS\", \"TEXT\", 20, \"Drainage Suitability\"),\n",
    "    (\"SEPTIC_OK\", \"SHORT\", None, \"Septic Compatible (1/0)\"),\n",
    "    (\"ATU_OK\", \"SHORT\", None, \"ATU Compatible (1/0)\"),\n",
    "    (\"SEEPAGE_PIT_OK\", \"SHORT\", None, \"Seepage Pit Compatible (1/0)\"),\n",
    "    (\"JOIN_LOG\", \"TEXT\", 200, \"Join sequence tracking\")\n",
    "]\n",
    "\n",
    "for field_name, field_type, field_length, field_alias in foundation_fields:\n",
    "    try:\n",
    "        if field_length:\n",
    "            arcpy.management.AddField(tmk_foundation_path, field_name, field_type, \n",
    "                                   field_length=field_length, field_alias=field_alias)\n",
    "        else:\n",
    "            arcpy.management.AddField(tmk_foundation_path, field_name, field_type, \n",
    "                                   field_alias=field_alias)\n",
    "        print(f\"  ✅ Added: {field_name}\")\n",
    "    except Exception as e:\n",
    "        print(f\"  ⚠️  Field {field_name}: {e}\")\n",
    "\n",
    "# Initialize tracking\n",
    "with arcpy.da.UpdateCursor(tmk_foundation_path, [\"JOIN_LOG\"]) as cursor:\n",
    "    for row in cursor:\n",
    "        row[0] = f\"Foundation: {datetime.now().strftime('%Y-%m-%d %H:%M')}\"\n",
    "        cursor.updateRow(row)\n",
    "\n",
    "print(f\"✅ TMK Foundation ready for sequential joins!\")\n",
    "log_workflow_step(\"TMK Foundation\", \"Setup complete\")"
   ]
  }
 ],
 "metadata": {
  "kernelspec": {
   "display_name": "ArcGISPro",
   "language": "python",
   "name": "python3"
  }
 },
 "nbformat": 4,
 "nbformat_minor": 2
}
