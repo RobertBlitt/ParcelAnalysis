{
 "cells": [
  {
   "cell_type": "markdown",
   "metadata": {},
   "source": [
    "# 01_Load_And_Preview_Parcels.ipynb\n",
    "\n",
    "This notebook loads the base parcel dataset for Maui County from the project geodatabase, checks its structure, and previews basic information such as feature count and field names.\n",
    "\n",
    "- Input: `Parcels_Maui`\n",
    "- Output: Console preview of schema and feature count\n",
    "\n",
    "---\n"
   ]
  },
  {
   "cell_type": "code",
   "execution_count": 2,
   "metadata": {},
   "outputs": [
    {
     "name": "stdout",
     "output_type": "stream",
     "text": [
      "Total number of parcels: 51765\n",
      "\n",
      "Schema preview:\n",
      "OBJECTID (OID)\n",
      "Shape (Geometry)\n",
      "TMK (Integer)\n",
      "TMK_txt (String)\n",
      "county (String)\n",
      "division (String)\n",
      "island (String)\n",
      "zone (String)\n",
      "section (String)\n",
      "plat (String)\n",
      "plat1 (String)\n",
      "parcel (String)\n",
      "parcel1 (String)\n",
      "cty_tmk (String)\n",
      "GISAcres (Double)\n",
      "qpub_link (String)\n",
      "Shape_Leng (Double)\n",
      "Shape_Length (Double)\n",
      "Shape_Area (Double)\n"
     ]
    }
   ],
   "source": [
    "import arcpy\n",
    "\n",
    "# Define path to your Maui parcels feature class\n",
    "parcels_fc = r\"C:\\Users\\rober\\OneDrive\\Documents\\GIS_Projects\\ParcelAnalysis\\ParcelAnalysis.gdb\\Parcels_Maui\"\n",
    "\n",
    "# Confirm path and feature count\n",
    "count = int(arcpy.management.GetCount(parcels_fc)[0])\n",
    "print(f\"Total number of parcels: {count}\")\n",
    "\n",
    "# Preview schema\n",
    "fields = arcpy.ListFields(parcels_fc)\n",
    "print(\"\\nSchema preview:\")\n",
    "for field in fields:\n",
    "    print(f\"{field.name} ({field.type})\")\n"
   ]
  },
  {
   "cell_type": "code",
   "execution_count": 2,
   "metadata": {},
   "outputs": [
    {
     "name": "stdout",
     "output_type": "stream",
     "text": [
      "Total number of parcels: 51765\n",
      "\n",
      "Schema preview:\n",
      "OBJECTID (OID)\n",
      "Shape (Geometry)\n",
      "TMK (Integer)\n",
      "TMK_txt (String)\n",
      "county (String)\n",
      "division (String)\n",
      "island (String)\n",
      "zone (String)\n",
      "section (String)\n",
      "plat (String)\n",
      "plat1 (String)\n",
      "parcel (String)\n",
      "parcel1 (String)\n",
      "cty_tmk (String)\n",
      "GISAcres (Double)\n",
      "qpub_link (String)\n",
      "Shape_Leng (Double)\n",
      "Shape_Length (Double)\n",
      "Shape_Area (Double)\n"
     ]
    }
   ],
   "source": [
    "import arcpy\n",
    "\n",
    "# Define path to your Maui parcels feature class\n",
    "parcels_fc = r\"C:\\Users\\rober\\OneDrive\\Documents\\GIS_Projects\\ParcelAnalysis\\ParcelAnalysis.gdb\\Parcels_Maui\"\n",
    "\n",
    "# Confirm path and feature count\n",
    "count = int(arcpy.management.GetCount(parcels_fc)[0])\n",
    "print(f\"Total number of parcels: {count}\")\n",
    "\n",
    "# Preview schema\n",
    "fields = arcpy.ListFields(parcels_fc)\n",
    "print(\"\\nSchema preview:\")\n",
    "for field in fields:\n",
    "    print(f\"{field.name} ({field.type})\")\n"
   ]
  },
  {
   "cell_type": "markdown",
   "metadata": {},
   "source": [
    "### 02_Calculate_Area_And_Export_ParcelData.csv\n",
    "\n",
    "This cell calculates parcel areas (in square feet) using the geometry of each polygon and exports the base attributes to a CSV file keyed by TMK. This creates our master `ParcelsData.csv` file for Maui County.\n"
   ]
  },
  {
   "cell_type": "code",
   "execution_count": 3,
   "metadata": {},
   "outputs": [
    {
     "name": "stdout",
     "output_type": "stream",
     "text": [
      "✅ Exported 51765 parcels to CSV:\n",
      "C:\\Users\\rober\\OneDrive\\Documents\\GIS_Projects\\ParcelAnalysis\\Data\\ParcelsData_Maui.csv\n"
     ]
    }
   ],
   "source": [
    "import arcpy\n",
    "import pandas as pd\n",
    "import os\n",
    "\n",
    "# Use your corrected Maui feature class name\n",
    "parcels_fc = r\"C:\\Users\\rober\\OneDrive\\Documents\\GIS_Projects\\ParcelAnalysis\\ParcelAnalysis.gdb\\Parcels_Maui\"\n",
    "\n",
    "# Set output path for your CSV file\n",
    "output_csv = r\"C:\\Users\\rober\\OneDrive\\Documents\\GIS_Projects\\ParcelAnalysis\\Data\\ParcelsData_Maui.csv\"\n",
    "\n",
    "# Extract and store parcel info\n",
    "parcel_data = []\n",
    "\n",
    "with arcpy.da.SearchCursor(parcels_fc, [\"TMK\", \"TMK_txt\", \"Shape_Area\"]) as cursor:\n",
    "    for row in cursor:\n",
    "        tmk = row[0]\n",
    "        tmk_txt = row[1]\n",
    "        area_ft2 = row[2]  # Already in square feet (US Feet projection)\n",
    "        parcel_data.append({\n",
    "            \"TMK\": tmk,\n",
    "            \"TMK_txt\": tmk_txt,\n",
    "            \"Area_ft2\": area_ft2\n",
    "        })\n",
    "\n",
    "# Convert to DataFrame and save\n",
    "df = pd.DataFrame(parcel_data)\n",
    "df.to_csv(output_csv, index=False)\n",
    "\n",
    "print(f\"✅ Exported {len(df)} parcels to CSV:\\n{output_csv}\")\n"
   ]
  },
  {
   "cell_type": "code",
   "execution_count": null,
   "metadata": {},
   "outputs": [],
   "source": []
  }
 ],
 "metadata": {
  "kernelspec": {
   "display_name": "ArcGISPro",
   "language": "python",
   "name": "python3"
  },
  "language_info": {
   "file_extension": ".py",
   "mimetype": "text/x-python",
   "name": "python",
   "version": "3.11.10"
  }
 },
 "nbformat": 4,
 "nbformat_minor": 4
}
