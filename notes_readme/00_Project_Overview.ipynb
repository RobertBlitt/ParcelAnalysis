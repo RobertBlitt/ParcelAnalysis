{
 "cells": [
  {
   "cell_type": "markdown",
   "id": "bb482f90",
   "metadata": {},
   "source": [
    "# Project Organization and Workflow Overview"
   ]
  },
  {
   "cell_type": "markdown",
   "id": "a7671603",
   "metadata": {},
   "source": [
    "## Folder Structure, Organization & Conventions\n",
    "\n",
    "Below is the recommended folder and file structure for the project. This system keeps raw data, derived data, scripts, outputs, and documentation clearly separated and easy to manage.\n",
    "\n",
    "```text\n",
    "/ProjectRoot/\n",
    "├── Data/\n",
    "│   ├── County/          # Source data from county agencies (unaltered)\n",
    "│   ├── State/           # Source data from state agencies (unaltered)\n",
    "│   ├── _Raw/            # Other raw/external data (unaltered)\n",
    "├── Outputs/\n",
    "│   ├── tables/          # All derived/compiled data products (e.g., standardized setback tables)\n",
    "│   ├── readme/          # One README per product in 'tables/', documenting logic and sources\n",
    "│   └── (other outputs: maps, charts, spatial data)\n",
    "├── Scripts/             # Modular scripts for each workflow step\n",
    "├── Reference/           # Regulatory files, manuals, and static documents (do not edit)\n",
    "├── Notes_ReadMe/        # Project notes, workflow logs, main README/notebook\n",
    "├── ParcelAnalysis.gdb   # Main geodatabase (DO NOT MOVE)\n",
    "```\n",
    "\n",
    "**Key Points:**\n",
    "- Folders in `/Data/County/` and `/Data/State/` are for source data only—never edit files here.\n",
    "- All outputs, compiled tables, or transformed datasets go in `/Outputs/tables/` and are always documented in `/Outputs/readme/`.\n",
    "- Scripts are kept modular for traceability.\n",
    "- Reference is for static source documents only.\n",
    "- Notes_ReadMe holds your evolving documentation and housekeeping guidelines.\n"
   ]
  },
  {
   "cell_type": "markdown",
   "id": "2c36818a",
   "metadata": {},
   "source": [
    "## Housekeeping Guidelines\n",
    "\n",
    "- **Do not move `ParcelAnalysis.gdb`** after project setup; all geodatabase links depend on its location.\n",
    "- **Never edit or overwrite files in any `Data/County/`, `Data/State/`, or `Data/_Raw/` folder.**\n",
    "- **Update the product README** (`Outputs/readme/`) every time a new data product is created or revised, especially if methods or assumptions change.\n",
    "- **Keep scripts modular** and version-controlled.\n",
    "- **Log all workflow decisions** (including assumptions, method choices, and QA steps) in this notebook and in relevant README files.\n",
    "- **For all derived data products:** Clearly document sources, transformation steps, and rationale for any standardization or project-specific rules.\n",
    "- **Regularly backup** the project folder structure to preserve provenance and reproducibility.\n",
    "\n",
    "---\n",
    "\n",
    "*If in doubt about where to save or how to document a new file, refer to “Folder Structure, Organization & Conventions” above or consult the project lead.*\n"
   ]
  },
  {
   "cell_type": "markdown",
   "id": "e6a6bece",
   "metadata": {},
   "source": [
    "## On Derived vs. Source Data\n",
    "\n",
    "- **Source Data:**  \n",
    "  Any dataset or document saved in `Data/County/` or `Data/State/` is considered “source data”—these are unmodified, directly downloaded or received from the original issuing authority.\n",
    "\n",
    "- **Derived Data:**  \n",
    "  Any dataset, table, or product created by the project team through integration, interpretation, or standardization (for example, a unified suitability matrix or compiled setbacks CSV) is considered “derived data.”  \n",
    "  All derived products must be paired with a README in `Outputs/readme/` describing the source(s), decisions, and transformation steps used.\n"
   ]
  },
  {
   "cell_type": "markdown",
   "id": "4c7365e4",
   "metadata": {},
   "source": [
    "## Documentation Workflow\n",
    "\n",
    "- Every derived data product must be accompanied by a README detailing data provenance, assumptions, and decisions for reproducibility and transparency.\n",
    "- Whenever a new data product, method, or exception is added, record it here and in the relevant product’s README for traceability.\n"
   ]
  },
  {
   "cell_type": "markdown",
   "id": "f7ea00e7",
   "metadata": {},
   "source": [
    "## Example Methods Note: Setback Decisions\n",
    "\n",
    "For this project, we apply a **uniform 100 ft minimum horizontal setback from all private potable wells** (on both the subject and neighboring parcels), regardless of county.\n",
    "\n",
    "> *This is more conservative than the state minimum (which does not specify a setback for private wells in HAR 11-62) and is in line with the stricter requirements of some counties (e.g., Maui, Hawai‘i, Kauai).*\n",
    "\n",
    "- **Regulatory Citations:**  \n",
    "  State-required setbacks are as per **HAR 11-62, Appendix D, Table II (July 1, 2014)**.  \n",
    "  Uniform 100 ft private well setback is a **project method** based on county practice and public health protection.\n",
    "\n",
    "- **Documentation Workflow:**  \n",
    "  Every major data product (e.g., CSV tables) is paired with a README in `/outputs/readme/` that documents the logic, citations, and method choices.  \n",
    "  This workflow ensures reproducibility and full transparency for future reporting and publication.\n",
    "\n",
    "Whenever a new workflow decision, exception, or data product is added, record it here and in the relevant product’s README for traceability.\n"
   ]
  }
 ],
 "metadata": {
  "kernelspec": {
   "display_name": "ArcGISPro",
   "language": "python",
   "name": "python3"
  },
  "language_info": {
   "file_extension": ".py",
   "mimetype": "text/x-python",
   "name": "python",
   "version": "3.11.10"
  }
 },
 "nbformat": 4,
 "nbformat_minor": 5
}
